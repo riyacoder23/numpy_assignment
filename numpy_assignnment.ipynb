{
  "nbformat": 4,
  "nbformat_minor": 0,
  "metadata": {
    "colab": {
      "provenance": [],
      "authorship_tag": "ABX9TyN6Ayp848LSeOFRB9KHXKy5",
      "include_colab_link": true
    },
    "kernelspec": {
      "name": "python3",
      "display_name": "Python 3"
    },
    "language_info": {
      "name": "python"
    }
  },
  "cells": [
    {
      "cell_type": "markdown",
      "metadata": {
        "id": "view-in-github",
        "colab_type": "text"
      },
      "source": [
        "<a href=\"https://colab.research.google.com/github/riyacoder23/numpy_assignment/blob/main/numpy_assignnment.ipynb\" target=\"_parent\"><img src=\"https://colab.research.google.com/assets/colab-badge.svg\" alt=\"Open In Colab\"/></a>"
      ]
    },
    {
      "cell_type": "code",
      "execution_count": 2,
      "metadata": {
        "id": "dMy-a7Y1kfLg"
      },
      "outputs": [],
      "source": [
        "import numpy as np\n",
        "list_ = [ '1' , '2' , '3' , '4' , '5' ]\n",
        "array_list = np.array(object = list_)"
      ]
    },
    {
      "cell_type": "markdown",
      "source": [
        "Q1. Is there any difference in the data type of variables list_ and array_list? If there is then write a code\n",
        "to print the data types of both the variables."
      ],
      "metadata": {
        "id": "WIObpKismMzR"
      }
    },
    {
      "cell_type": "markdown",
      "source": [
        "Ans1. Yes there is difference between the data type of  variable list_ and array .  list_ is a list  is a regular python list and  array_list is a python data strcure  "
      ],
      "metadata": {
        "id": "EZwEcC0OmZhG"
      }
    },
    {
      "cell_type": "code",
      "source": [
        "print(\"the data type of list is \",type(list_))"
      ],
      "metadata": {
        "colab": {
          "base_uri": "https://localhost:8080/"
        },
        "id": "KtB-kB9kk1EN",
        "outputId": "a4780535-bd9d-473d-c9a2-5e5acf36f360"
      },
      "execution_count": 3,
      "outputs": [
        {
          "output_type": "stream",
          "name": "stdout",
          "text": [
            "the data type of list is  <class 'list'>\n"
          ]
        }
      ]
    },
    {
      "cell_type": "code",
      "source": [
        "print(\"the data type of list is \",type(array_list))"
      ],
      "metadata": {
        "colab": {
          "base_uri": "https://localhost:8080/"
        },
        "id": "iYLnGKqTck1Q",
        "outputId": "cb53fd2b-cd7f-470d-852f-76dfa351c8f9"
      },
      "execution_count": 4,
      "outputs": [
        {
          "output_type": "stream",
          "name": "stdout",
          "text": [
            "the data type of list is  <class 'numpy.ndarray'>\n"
          ]
        }
      ]
    },
    {
      "cell_type": "markdown",
      "source": [
        "Q2. Write a code to print the data type of each and every element of both the variables list_ and\n",
        "array_list."
      ],
      "metadata": {
        "id": "hvRjL56zdYhN"
      }
    },
    {
      "cell_type": "code",
      "source": [
        "for item in list_:\n",
        "  print(\"data type of each item\",type(item))"
      ],
      "metadata": {
        "colab": {
          "base_uri": "https://localhost:8080/"
        },
        "id": "cxxZThQedbXb",
        "outputId": "28328258-577a-41f1-df35-1e11b2c77bcb"
      },
      "execution_count": 6,
      "outputs": [
        {
          "output_type": "stream",
          "name": "stdout",
          "text": [
            "data type of each item <class 'str'>\n",
            "data type of each item <class 'str'>\n",
            "data type of each item <class 'str'>\n",
            "data type of each item <class 'str'>\n",
            "data type of each item <class 'str'>\n"
          ]
        }
      ]
    },
    {
      "cell_type": "code",
      "source": [
        "for item in array_list:\n",
        "  print(\"data type of each item\",type(item))"
      ],
      "metadata": {
        "colab": {
          "base_uri": "https://localhost:8080/"
        },
        "id": "5xjz6RP5eXUH",
        "outputId": "d5882102-ecc3-438e-b854-dbeac85295bd"
      },
      "execution_count": 7,
      "outputs": [
        {
          "output_type": "stream",
          "name": "stdout",
          "text": [
            "data type of each item <class 'numpy.str_'>\n",
            "data type of each item <class 'numpy.str_'>\n",
            "data type of each item <class 'numpy.str_'>\n",
            "data type of each item <class 'numpy.str_'>\n",
            "data type of each item <class 'numpy.str_'>\n"
          ]
        }
      ]
    },
    {
      "cell_type": "code",
      "source": [
        "array_list = np.array(object = list_, dtype = int)"
      ],
      "metadata": {
        "colab": {
          "base_uri": "https://localhost:8080/"
        },
        "id": "OaxcBQzSen1d",
        "outputId": "57b974a5-72ba-431e-88b0-fa66997ceea5"
      },
      "execution_count": 10,
      "outputs": [
        {
          "output_type": "execute_result",
          "data": {
            "text/plain": [
              "numpy.ndarray"
            ]
          },
          "metadata": {},
          "execution_count": 10
        }
      ]
    },
    {
      "cell_type": "markdown",
      "source": [
        "Q3. Considering the following changes in the variable, array_list:\n",
        "array_list = np.array(object = list_, dtype = int)\n",
        "Will there be any difference in the data type of the elements present in both the variables, list_ and\n",
        "arra_list? If so then print the data types of each and every element present in both the variables, list_\n",
        "and array_list."
      ],
      "metadata": {
        "id": "T1RRnEcLfE44"
      }
    },
    {
      "cell_type": "markdown",
      "source": [
        "Ans3. After applying the above changes the  array_list will be converted to numpy's integer data type which is int64."
      ],
      "metadata": {
        "id": "x0zEEG-Dfb9A"
      }
    },
    {
      "cell_type": "code",
      "source": [
        "for item in list_:\n",
        "  print(\"data type of each item\",type(item))"
      ],
      "metadata": {
        "colab": {
          "base_uri": "https://localhost:8080/"
        },
        "id": "aJ0onVJofJ_t",
        "outputId": "ca19279f-d81a-4f1d-cbab-d769bd43779f"
      },
      "execution_count": 11,
      "outputs": [
        {
          "output_type": "stream",
          "name": "stdout",
          "text": [
            "data type of each item <class 'str'>\n",
            "data type of each item <class 'str'>\n",
            "data type of each item <class 'str'>\n",
            "data type of each item <class 'str'>\n",
            "data type of each item <class 'str'>\n"
          ]
        }
      ]
    },
    {
      "cell_type": "code",
      "source": [
        "for item in array_list:\n",
        "  print(\"data type of each item\",type(item))"
      ],
      "metadata": {
        "colab": {
          "base_uri": "https://localhost:8080/"
        },
        "id": "rufGYuycf9Zc",
        "outputId": "884660eb-cdcb-4fc3-ee18-694becfea3e8"
      },
      "execution_count": 12,
      "outputs": [
        {
          "output_type": "stream",
          "name": "stdout",
          "text": [
            "data type of each item <class 'numpy.int64'>\n",
            "data type of each item <class 'numpy.int64'>\n",
            "data type of each item <class 'numpy.int64'>\n",
            "data type of each item <class 'numpy.int64'>\n",
            "data type of each item <class 'numpy.int64'>\n"
          ]
        }
      ]
    },
    {
      "cell_type": "code",
      "source": [
        "import numpy as np\n",
        "num_list = [ [ 1 , 2 , 3 ] , [ 4 , 5 , 6 ] ]\n",
        "num_array = np.array(object = num_list)"
      ],
      "metadata": {
        "id": "3ZJ7FAEMgEUb"
      },
      "execution_count": 13,
      "outputs": []
    },
    {
      "cell_type": "markdown",
      "source": [
        "Q4. Write a code to find the following characteristics of variable, num_array:\n",
        "(i) shape\n",
        "(ii) size"
      ],
      "metadata": {
        "id": "fX_RUyragJN0"
      }
    },
    {
      "cell_type": "code",
      "source": [
        "num_array.shape\n"
      ],
      "metadata": {
        "colab": {
          "base_uri": "https://localhost:8080/"
        },
        "id": "hfkeP5rjgST2",
        "outputId": "2164888d-1d0b-458f-97be-d205dcfa3aa1"
      },
      "execution_count": 16,
      "outputs": [
        {
          "output_type": "execute_result",
          "data": {
            "text/plain": [
              "(2, 3)"
            ]
          },
          "metadata": {},
          "execution_count": 16
        }
      ]
    },
    {
      "cell_type": "code",
      "source": [
        "num_array.size"
      ],
      "metadata": {
        "colab": {
          "base_uri": "https://localhost:8080/"
        },
        "id": "XBAFKJvygeCu",
        "outputId": "783ceeac-a75b-4ec4-eb26-7b379935218e"
      },
      "execution_count": 17,
      "outputs": [
        {
          "output_type": "execute_result",
          "data": {
            "text/plain": [
              "6"
            ]
          },
          "metadata": {},
          "execution_count": 17
        }
      ]
    },
    {
      "cell_type": "markdown",
      "source": [
        "Q5. Write a code to create numpy array of 3*3 matrix containing zeros only, using a numpy array\n",
        "creation function."
      ],
      "metadata": {
        "id": "s8M2bUpAgkYm"
      }
    },
    {
      "cell_type": "code",
      "source": [
        "arr=np.zeros((3,3))\n",
        "arr"
      ],
      "metadata": {
        "colab": {
          "base_uri": "https://localhost:8080/"
        },
        "id": "LdkV2_rkgl2M",
        "outputId": "a2f0ac9e-e9f6-4b28-c73b-5fed418ce8e3"
      },
      "execution_count": 20,
      "outputs": [
        {
          "output_type": "execute_result",
          "data": {
            "text/plain": [
              "array([[0., 0., 0.],\n",
              "       [0., 0., 0.],\n",
              "       [0., 0., 0.]])"
            ]
          },
          "metadata": {},
          "execution_count": 20
        }
      ]
    },
    {
      "cell_type": "markdown",
      "source": [
        "Q6.Create an identity matrix of shape (5,5) using numpy functions?"
      ],
      "metadata": {
        "id": "HBW_nmVkg1lr"
      }
    },
    {
      "cell_type": "code",
      "source": [
        "arr1=np.eye(5)\n",
        "arr1"
      ],
      "metadata": {
        "colab": {
          "base_uri": "https://localhost:8080/"
        },
        "id": "N_1ZqIzigxg4",
        "outputId": "af7b06ec-22e9-49f6-da40-7a5789237d72"
      },
      "execution_count": 23,
      "outputs": [
        {
          "output_type": "execute_result",
          "data": {
            "text/plain": [
              "array([[1., 0., 0., 0., 0.],\n",
              "       [0., 1., 0., 0., 0.],\n",
              "       [0., 0., 1., 0., 0.],\n",
              "       [0., 0., 0., 1., 0.],\n",
              "       [0., 0., 0., 0., 1.]])"
            ]
          },
          "metadata": {},
          "execution_count": 23
        }
      ]
    }
  ]
}